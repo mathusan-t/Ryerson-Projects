{
 "cells": [
  {
   "cell_type": "markdown",
   "metadata": {
    "colab_type": "text",
    "id": "OMinrKm-mifV"
   },
   "source": [
    "## **EVALUATING THE PERFORMANCE OF POPULAR NEURAL NETWORK ARCHITECTURES ON THE CIFAR-10 DATASET - Code File**\n",
    "\n",
    "### Gagandip Chane\n",
    "### Mathusan Thanabalasingam"
   ]
  },
  {
   "cell_type": "code",
   "execution_count": null,
   "metadata": {
    "colab": {},
    "colab_type": "code",
    "id": "IV9la-wKc91M"
   },
   "outputs": [],
   "source": [
    "import numpy as np\n",
    "\n",
    "import keras\n",
    "import tensorflow.keras\n",
    "from tensorflow.keras.datasets import cifar10\n",
    "from tensorflow.keras import models, layers, optimizers, regularizers\n",
    "from keras.utils import np_utils\n",
    "from tensorflow.keras.models import Sequential, Model\n",
    "import matplotlib.pyplot as plt\n",
    "import skimage.transform\n",
    "from tensorflow.keras import backend as K\n",
    "from tensorflow.keras.preprocessing.image import ImageDataGenerator\n",
    "from tensorflow.keras.layers import * \n",
    "from tensorflow.keras.applications import InceptionV3, VGG16, ResNet50"
   ]
  },
  {
   "cell_type": "code",
   "execution_count": null,
   "metadata": {
    "colab": {
     "base_uri": "https://localhost:8080/",
     "height": 85
    },
    "colab_type": "code",
    "id": "ACJydZMsvOPi",
    "outputId": "dfb5a28b-0720-4505-dbcf-cc88bf30354c"
   },
   "outputs": [],
   "source": [
    "# Load dataset as train and test sets\n",
    "(x_train, y_train), (x_test, y_test) = cifar10.load_data()\n",
    "\n",
    "# Set numeric type to float32 from uint8\n",
    "x_train = x_train.astype('float32')\n",
    "x_test = x_test.astype('float32')\n",
    "\n",
    "# Transform labels to one-hot encoding\n",
    "y_train = np_utils.to_categorical(y_train, 10)\n",
    "y_test = np_utils.to_categorical(y_test, 10)\n",
    "\n",
    "print(x_train.shape)\n",
    "print(x_test.shape)"
   ]
  },
  {
   "cell_type": "code",
   "execution_count": null,
   "metadata": {
    "colab": {},
    "colab_type": "code",
    "id": "3ct5lQ5lmrE3"
   },
   "outputs": [],
   "source": [
    "# testing with imagedatagen to see if there is any improvement:\n",
    "datagen = ImageDataGenerator(\n",
    "    zca_whitening=False,  # apply ZCA whitening\n",
    "    rotation_range=15,  # randomly rotate images in the range (degrees, 0 to 180)\n",
    "    width_shift_range=0.1,  # randomly shift images horizontally (fraction of total width)\n",
    "    height_shift_range=0.1,  # randomly shift images vertically (fraction of total height)\n",
    "    horizontal_flip=True,  # randomly flip images\n",
    "    vertical_flip=False)  # randomly flip images\n",
    "\n",
    "datagen.fit(x_train)"
   ]
  },
  {
   "cell_type": "markdown",
   "metadata": {
    "colab_type": "text",
    "id": "XIavGBSGPacM"
   },
   "source": [
    "# **LeNet Implementation** "
   ]
  },
  {
   "cell_type": "code",
   "execution_count": null,
   "metadata": {
    "colab": {},
    "colab_type": "code",
    "id": "yhY2BSMfwFvm"
   },
   "outputs": [],
   "source": [
    "LeNetmodel = Sequential()\n",
    "\n",
    "LeNetmodel.add(layers.Conv2D(6, kernel_size=(5, 5), strides=(1, 1), activation='tanh', input_shape=(32,32,3), padding=\"same\"))\n",
    "LeNetmodel.add(layers.AveragePooling2D(pool_size=(2, 2), strides=(1, 1), padding=\"valid\"))\n",
    "\n",
    "LeNetmodel.add(layers.Conv2D(16, kernel_size=(5, 5), strides=(1, 1), activation='tanh', padding=\"valid\"))\n",
    "LeNetmodel.add(layers.AveragePooling2D(pool_size=(2, 2), strides=(2, 2), padding=\"valid\"))\n",
    "\n",
    "#Flatten the CNN output so that we can connect it with fully connected layers\n",
    "LeNetmodel.add(layers.Flatten())\n",
    "\n",
    "LeNetmodel.add(Dense(120, activation='tanh'))\n",
    "LeNetmodel.add(Dense(84, activation='tanh'))\n",
    "LeNetmodel.add(Dense(10, activation=\"softmax\"))\n",
    "\n",
    "# Compile the model\n",
    "LeNetmodel.compile(loss= 'categorical_crossentropy', optimizer='sgd', metrics=['accuracy'])"
   ]
  },
  {
   "cell_type": "code",
   "execution_count": null,
   "metadata": {
    "colab": {
     "base_uri": "https://localhost:8080/",
     "height": 443
    },
    "colab_type": "code",
    "id": "mY4rMMACV6hG",
    "outputId": "246e00f3-d007-40b1-fc8b-799e434074bb"
   },
   "outputs": [],
   "source": [
    "LeNetmodel.summary()"
   ]
  },
  {
   "cell_type": "code",
   "execution_count": null,
   "metadata": {
    "colab": {
     "base_uri": "https://localhost:8080/",
     "height": 1000
    },
    "colab_type": "code",
    "id": "vL7qB3OvL1hx",
    "outputId": "fa31bfc2-5b39-4d6a-c2e9-feefe7a9c453"
   },
   "outputs": [],
   "source": [
    "datagen_LeNet = LeNetmodel.fit(datagen.flow(x_train, y_train, batch_size=128),\n",
    "                        steps_per_epoch=len(x_train) / 128, epochs = 50, validation_data=(x_test, y_test), verbose = 1)"
   ]
  },
  {
   "cell_type": "code",
   "execution_count": null,
   "metadata": {
    "colab": {
     "base_uri": "https://localhost:8080/",
     "height": 312
    },
    "colab_type": "code",
    "id": "6t_FiubnT6L1",
    "outputId": "71874e19-0b5b-4773-cb52-6ce68fc537bd"
   },
   "outputs": [],
   "source": [
    "f, ax = plt.subplots()\n",
    "ax.plot([None] + datagen_LeNet.history['accuracy'], 'o-')\n",
    "ax.plot([None] + datagen_LeNet.history['val_accuracy'], 'x-')\n",
    "# Plot legend and use the best location automatically: loc = 0.\n",
    "ax.legend(['Train acc', 'Validation acc'], loc = 0)\n",
    "ax.set_title('Training/Validation acc per Epoch')\n",
    "ax.set_xlabel('Epoch')\n",
    "ax.set_ylabel('acc')"
   ]
  },
  {
   "cell_type": "markdown",
   "metadata": {
    "colab_type": "text",
    "id": "BkaSIYndJVfZ"
   },
   "source": [
    "# **Keras VGG-16 (Transfer Learning)**"
   ]
  },
  {
   "cell_type": "code",
   "execution_count": null,
   "metadata": {
    "colab": {
     "base_uri": "https://localhost:8080/",
     "height": 374
    },
    "colab_type": "code",
    "id": "Pcir9pF7ANdT",
    "outputId": "a334f822-0109-4293-edb5-5ecd4189c047"
   },
   "outputs": [],
   "source": [
    "# keras.applications implementations of models\n",
    "input_shape = (32, 32, 1)\n",
    "X_input = Input(input_shape)\n",
    "\n",
    "class Gray2VGGInput( Layer ) :\n",
    "    \"\"\"Custom conversion layer\n",
    "    \"\"\"\n",
    "    def build( self, x ) :\n",
    "        self.image_mean = K.variable(value=np.array([103.939, 116.779, 123.68]).reshape([1,1,1,3]).astype('float32'), \n",
    "                                     dtype='float32', \n",
    "                                     name='imageNet_mean' )\n",
    "        self.built = True\n",
    "        return\n",
    "    def call( self, x ) :\n",
    "        rgb_x = K.concatenate( [x,x,x], axis=-1 )\n",
    "        norm_x = rgb_x - self.image_mean\n",
    "        return norm_x\n",
    "    def compute_output_shape( self, input_shape ) :\n",
    "        return input_shape[:3] + (3,)\n",
    "\n",
    "VGG16tf = Sequential()\n",
    "#new_VGG16.add(VGG16(include_top = False, weights = None, input_tensor = X_input, input_shape = input_shape))\n",
    "VGG16tf.add(VGG16(include_top = False, weights = 'imagenet', input_tensor = X_input, input_shape = input_shape))\n",
    "VGG16tf.add(Flatten())\n",
    "VGG16tf.add(layers.Dense(2048, activation='relu', kernel_regularizer=regularizers.l2(0.0005)))\n",
    "VGG16tf.add(layers.BatchNormalization())\n",
    "VGG16tf.add(layers.Dense(2048, activation='relu', kernel_regularizer=regularizers.l2(0.0005)))\n",
    "VGG16tf.add(layers.BatchNormalization())\n",
    "VGG16tf.add(Dense(10, activation = 'softmax'))\n",
    "\n",
    "#specify that the VGG16 layers should not be adjusted\n",
    "VGG16tf.layers[0].trainable = False\n",
    "\n",
    "VGG16tf.compile(optimizer='adam', loss='categorical_crossentropy', metrics=['accuracy'])\n",
    "VGG16tf.summary()"
   ]
  },
  {
   "cell_type": "code",
   "execution_count": null,
   "metadata": {
    "colab": {
     "base_uri": "https://localhost:8080/",
     "height": 1000
    },
    "colab_type": "code",
    "id": "HWYvIrCOHI-n",
    "outputId": "21495199-46bd-4dc7-cdf5-1030be46ca52"
   },
   "outputs": [],
   "source": [
    "plot_pretrained_VGG = VGG16tf.fit(datagen.flow(x_train, y_train, batch_size=128), \n",
    "                                              steps_per_epoch=len(x_train) / 128, epochs = 50, validation_data=(x_test, y_test), verbose = 1)"
   ]
  },
  {
   "cell_type": "code",
   "execution_count": null,
   "metadata": {
    "colab": {
     "base_uri": "https://localhost:8080/",
     "height": 312
    },
    "colab_type": "code",
    "id": "feFTkj72IXXo",
    "outputId": "05be61f8-dc9a-4699-87d4-f407a5c06d54"
   },
   "outputs": [],
   "source": [
    "f1, ax1 = plt.subplots()\n",
    "ax1.plot([None] + plot_pretrained_VGG.history['accuracy'], 'o-')\n",
    "ax1.plot([None] + plot_pretrained_VGG.history['val_accuracy'], 'x-')\n",
    "# Plot legend and use the best location automatically: loc = 0.\n",
    "ax1.legend(['Train acc', 'Validation acc'], loc = 0)\n",
    "ax1.set_title('Training/Validation acc per Epoch')\n",
    "ax1.set_xlabel('Epoch')\n",
    "ax1.set_ylabel('acc')"
   ]
  },
  {
   "cell_type": "markdown",
   "metadata": {
    "colab_type": "text",
    "id": "gfKNOL-7q1gx"
   },
   "source": [
    "# **Keras VGG-16 (No Transfer Learning)**"
   ]
  },
  {
   "cell_type": "code",
   "execution_count": null,
   "metadata": {
    "colab": {
     "base_uri": "https://localhost:8080/",
     "height": 407
    },
    "colab_type": "code",
    "id": "FJRRW1mjq9KK",
    "outputId": "0a7c54e2-2a36-45bc-8b7f-b3b0c3668e7c"
   },
   "outputs": [],
   "source": [
    "# keras.applications implementations of models\n",
    "input_shape = (32, 32, 3)\n",
    "X_input = Input(input_shape)\n",
    "\n",
    "VGG16no_tf = Sequential()\n",
    "VGG16no_tf.add(VGG16(include_top = False, weights = None, input_tensor = X_input, input_shape = input_shape))\n",
    "VGG16no_tf.add(Flatten())\n",
    "VGG16no_tf.add(layers.Dense(2048, activation='relu', kernel_regularizer=regularizers.l2(0.0005)))\n",
    "VGG16no_tf.add(layers.BatchNormalization())\n",
    "VGG16no_tf.add(layers.Dense(2048, activation='relu', kernel_regularizer=regularizers.l2(0.0005)))\n",
    "VGG16no_tf.add(layers.BatchNormalization())\n",
    "VGG16no_tf.add(Dense(10, activation = 'softmax'))\n",
    "\n",
    "VGG16no_tf.compile(optimizer='adam', loss='categorical_crossentropy', metrics=['accuracy'])\n",
    "VGG16no_tf.summary()"
   ]
  },
  {
   "cell_type": "code",
   "execution_count": null,
   "metadata": {
    "colab": {
     "base_uri": "https://localhost:8080/",
     "height": 1000
    },
    "colab_type": "code",
    "id": "RJUenGNDq9NV",
    "outputId": "5765eb05-29fa-42a2-f293-eb65e052730d"
   },
   "outputs": [],
   "source": [
    "plot_untrained_VGG = VGG16no_tf.fit(datagen.flow(x_train, y_train, batch_size=128), \n",
    "                                              steps_per_epoch=len(x_train) / 128, epochs = 50, validation_data=(x_test, y_test), verbose = 1)"
   ]
  },
  {
   "cell_type": "code",
   "execution_count": null,
   "metadata": {
    "colab": {
     "base_uri": "https://localhost:8080/",
     "height": 312
    },
    "colab_type": "code",
    "id": "4uMhIEh4q9RY",
    "outputId": "75f7969e-23f8-4f3d-a86e-38b19b52d9c4"
   },
   "outputs": [],
   "source": [
    "f1, ax1 = plt.subplots()\n",
    "ax1.plot([None] + plot_untrained_VGG.history['accuracy'], 'o-')\n",
    "ax1.plot([None] + plot_untrained_VGG.history['val_accuracy'], 'x-')\n",
    "# Plot legend and use the best location automatically: loc = 0.\n",
    "ax1.legend(['Train acc', 'Validation acc'], loc = 0)\n",
    "ax1.set_title('Training/Validation acc per Epoch')\n",
    "ax1.set_xlabel('Epoch')\n",
    "ax1.set_ylabel('acc')"
   ]
  },
  {
   "cell_type": "markdown",
   "metadata": {
    "colab_type": "text",
    "id": "14B2Hk8MaZQG"
   },
   "source": [
    "# **Keras Inception V3 (No Transfer Learning)**"
   ]
  },
  {
   "cell_type": "code",
   "execution_count": null,
   "metadata": {
    "colab": {},
    "colab_type": "code",
    "id": "ZPFbwU2bL9mX"
   },
   "outputs": [],
   "source": [
    "# CODE BLOCK REQUIRED TO RESIZE IMAGES\n",
    "\n",
    "# for x_train:\n",
    "newImages = []\n",
    "\n",
    "for image in x_train:\n",
    "  newImage = skimage.transform.resize(image, (75, 75, 3), mode='constant')\n",
    "  newImages.append(newImage)\n",
    "\n",
    "newImages = np.stack(newImages, axis=0)\n",
    "\n",
    "inception_xtrain = newImages\n",
    "\n",
    "# for x_test:\n",
    "newImages = []\n",
    "\n",
    "for image in x_test:\n",
    "  newImage = skimage.transform.resize(image, (75, 75, 3), mode='constant')\n",
    "  newImages.append(newImage)\n",
    "\n",
    "newImages = np.stack(newImages, axis=0)\n",
    "\n",
    "inception_xtest = newImages"
   ]
  },
  {
   "cell_type": "code",
   "execution_count": null,
   "metadata": {
    "colab": {},
    "colab_type": "code",
    "id": "r9CX5LsG_WJM"
   },
   "outputs": [],
   "source": [
    "InceptionDatagen = ImageDataGenerator(\n",
    "    zca_whitening=False,  # apply ZCA whitening\n",
    "    rotation_range=15,  # randomly rotate images in the range (degrees, 0 to 180)\n",
    "    width_shift_range=0.1,  # randomly shift images horizontally (fraction of total width)\n",
    "    height_shift_range=0.1,  # randomly shift images vertically (fraction of total height)\n",
    "    horizontal_flip=True,  # randomly flip images\n",
    "    vertical_flip=False)  # randomly flip images"
   ]
  },
  {
   "cell_type": "code",
   "execution_count": null,
   "metadata": {
    "colab": {},
    "colab_type": "code",
    "id": "Jpau8wzT8Xsi"
   },
   "outputs": [],
   "source": [
    "# compute quantities required for featurewise normalization\n",
    "InceptionDatagen.fit(inception_xtrain)"
   ]
  },
  {
   "cell_type": "code",
   "execution_count": null,
   "metadata": {
    "colab": {
     "base_uri": "https://localhost:8080/",
     "height": 265
    },
    "colab_type": "code",
    "id": "_F-vBu3PxjIH",
    "outputId": "9a079bdc-ecfb-4808-ede2-c1131c623e27"
   },
   "outputs": [],
   "source": [
    "input_shape = (75, 75, 3)\n",
    "X_input = Input(input_shape)\n",
    "\n",
    "inceptionModel = Sequential()\n",
    "inceptionModel.add(InceptionV3(include_top = False, weights = None, input_tensor = X_input, input_shape = input_shape))\n",
    "inceptionModel.add(GlobalAveragePooling2D())\n",
    "inceptionModel.add(Dense(10, activation = 'softmax'))\n",
    "inceptionModel.compile(optimizer= 'adam', loss='categorical_crossentropy', metrics=['accuracy'])\n",
    "inceptionModel.summary()"
   ]
  },
  {
   "cell_type": "code",
   "execution_count": null,
   "metadata": {
    "colab": {
     "base_uri": "https://localhost:8080/",
     "height": 727
    },
    "colab_type": "code",
    "id": "b0saTalVzaOu",
    "outputId": "5d209ff4-0b59-4bc9-b529-511813952a23"
   },
   "outputs": [],
   "source": [
    "plot_Inception = inceptionModel.fit(InceptionDatagen.flow(inception_xtrain, y_train, batch_size=128),\n",
    "                        steps_per_epoch=len(x_train) / 128, epochs = 20, validation_data=(inception_xtest, y_test), verbose = 1)"
   ]
  },
  {
   "cell_type": "code",
   "execution_count": null,
   "metadata": {
    "colab": {
     "base_uri": "https://localhost:8080/",
     "height": 312
    },
    "colab_type": "code",
    "id": "1y2hCEPoOBI2",
    "outputId": "01cfeab0-10bd-4028-cc2c-6f96c7634207"
   },
   "outputs": [],
   "source": [
    "f1, ax1 = plt.subplots()\n",
    "ax1.plot([None] + plot_Inception.history['accuracy'], 'o-')\n",
    "ax1.plot([None] + plot_Inception.history['val_accuracy'], 'x-')\n",
    "# Plot legend and use the best location automatically: loc = 0.\n",
    "ax1.legend(['Train acc', 'Validation acc'], loc = 0)\n",
    "ax1.set_title('Training/Validation acc per Epoch')\n",
    "ax1.set_xlabel('Epoch')\n",
    "ax1.set_ylabel('acc')"
   ]
  },
  {
   "cell_type": "markdown",
   "metadata": {
    "colab_type": "text",
    "id": "ESruTQziaH2Q"
   },
   "source": [
    "# **Keras Inception V3 (Transfer Learning)**"
   ]
  },
  {
   "cell_type": "code",
   "execution_count": null,
   "metadata": {
    "colab": {
     "base_uri": "https://localhost:8080/",
     "height": 301
    },
    "colab_type": "code",
    "id": "9r9S4VPfZeA6",
    "outputId": "86f7e5c6-470a-4abf-f62e-a393eb85a36e"
   },
   "outputs": [],
   "source": [
    "input_shape = (75, 75, 3)\n",
    "X_input = Input(input_shape)\n",
    "\n",
    "inceptionModeltf = Sequential()\n",
    "inceptionModeltf.add(InceptionV3(include_top = False, weights = 'imagenet', input_tensor = X_input, input_shape = input_shape))\n",
    "inceptionModeltf.add(GlobalAveragePooling2D())\n",
    "inceptionModeltf.add(Dense(10, activation = 'softmax'))\n",
    "inceptionModeltf.compile(optimizer= 'adam', loss='categorical_crossentropy', metrics=['accuracy'])\n",
    "inceptionModeltf.layers[0].trainable = False\n",
    "inceptionModeltf.summary()"
   ]
  },
  {
   "cell_type": "code",
   "execution_count": null,
   "metadata": {
    "colab": {
     "base_uri": "https://localhost:8080/",
     "height": 781
    },
    "colab_type": "code",
    "id": "s7EelNxhabIT",
    "outputId": "7899b861-95fd-42ba-edb3-c07d86a3c119"
   },
   "outputs": [],
   "source": [
    "plot_pretrained_Inception = inceptionModeltf.fit(InceptionDatagen.flow(inception_xtrain, y_train, batch_size=128),\n",
    "                        steps_per_epoch=len(x_train) / 128, epochs = 20, validation_data=(inception_xtest, y_test), verbose = 1)"
   ]
  },
  {
   "cell_type": "code",
   "execution_count": null,
   "metadata": {
    "colab": {
     "base_uri": "https://localhost:8080/",
     "height": 312
    },
    "colab_type": "code",
    "id": "EcupT9nDeCjq",
    "outputId": "5de0142a-19ef-4b16-8854-19bd18a926b5"
   },
   "outputs": [],
   "source": [
    "f1, ax1 = plt.subplots()\n",
    "ax1.plot([None] + plot_pretrained_Inception.history['accuracy'], 'o-')\n",
    "ax1.plot([None] + plot_pretrained_Inception.history['val_accuracy'], 'x-')\n",
    "# Plot legend and use the best location automatically: loc = 0.\n",
    "ax1.legend(['Train acc', 'Validation acc'], loc = 0)\n",
    "ax1.set_title('Training/Validation acc per Epoch')\n",
    "ax1.set_xlabel('Epoch')\n",
    "ax1.set_ylabel('acc')"
   ]
  },
  {
   "cell_type": "markdown",
   "metadata": {
    "colab_type": "text",
    "id": "Gp0EWOjmutDt"
   },
   "source": [
    "# **AlexNet**"
   ]
  },
  {
   "cell_type": "code",
   "execution_count": null,
   "metadata": {
    "colab": {},
    "colab_type": "code",
    "id": "QcBb-1ThusOw"
   },
   "outputs": [],
   "source": [
    "def AlexNetModel():\n",
    "  #Instantiate an empty model\n",
    "  AlexNet = Sequential()\n",
    "\n",
    "  # LAYER 1\n",
    "  AlexNet.add(layers.Conv2D(96, kernel_size=(11, 11), strides=(4, 4), activation='relu', input_shape=(32,32,3), padding=\"same\"))\n",
    "  ## pooling\n",
    "  AlexNet.add(layers.MaxPooling2D(pool_size=(3, 3), strides=(2, 2), padding=\"same\"))\n",
    "  AlexNet.add(layers.BatchNormalization())\n",
    "\n",
    "  # LAYER 2\n",
    "  AlexNet.add(layers.ZeroPadding2D(padding=(2, 2)))\n",
    "  AlexNet.add(layers.Conv2D(256, kernel_size=(5, 5), strides=(1, 1), activation='relu', padding=\"same\"))\n",
    "  ## pooling\n",
    "  AlexNet.add(layers.MaxPooling2D(pool_size=(3, 3), strides=(2, 2), padding=\"same\"))\n",
    "  AlexNet.add(layers.BatchNormalization())\n",
    "\n",
    "  # LAYER 3\n",
    "  AlexNet.add(layers.ZeroPadding2D(padding=(1, 1)))\n",
    "  AlexNet.add(layers.Conv2D(384, kernel_size=(3, 3), strides=(1, 1), activation='relu', padding=\"same\"))\n",
    "\n",
    "  # LAYER 4\n",
    "  AlexNet.add(layers.ZeroPadding2D(padding=(1, 1)))\n",
    "  AlexNet.add(layers.Conv2D(384, kernel_size=(3, 3), strides=(1, 1), activation='relu', padding=\"same\"))\n",
    "\n",
    "  # LAYER 5\n",
    "  AlexNet.add(layers.ZeroPadding2D(padding=(1, 1)))\n",
    "  AlexNet.add(layers.Conv2D(256, kernel_size=(3, 3), strides=(1, 1), activation='relu', padding=\"same\"))\n",
    "  ## pooling\n",
    "  AlexNet.add(layers.MaxPooling2D(pool_size=(3, 3), strides=(2, 2), padding=\"same\"))\n",
    "\n",
    "  # Flatten the CNN output so that we can connect it with fully connected layers\n",
    "  AlexNet.add(layers.Flatten())\n",
    "\n",
    "  # FC6 Fully Connected Layer\n",
    "  AlexNet.add(layers.Dense(4096, activation='relu'))\n",
    "  AlexNet.add(layers.Dropout(0.5))\n",
    "\n",
    "  # FC7 Fully Connected Layer\n",
    "  AlexNet.add(layers.Dense(4096, activation='relu'))\n",
    "  AlexNet.add(layers.Dropout(0.5))\n",
    "\n",
    "  # Output Layer with softmax activation\n",
    "  AlexNet.add(layers.Dense(10, activation=\"softmax\"))\n",
    "\n",
    "  # Compile the model\n",
    "  AlexNet.compile(loss='categorical_crossentropy', optimizer='sgd', metrics=[\"accuracy\"])\n",
    "\n",
    "  return AlexNet"
   ]
  },
  {
   "cell_type": "code",
   "execution_count": null,
   "metadata": {
    "colab": {
     "base_uri": "https://localhost:8080/",
     "height": 833
    },
    "colab_type": "code",
    "id": "_6an9eTgyD2I",
    "outputId": "2719e7d3-d145-4d3a-f1d9-db33ca147c90"
   },
   "outputs": [],
   "source": [
    "AlexNet = AlexNetModel()\n",
    "AlexNet.summary()"
   ]
  },
  {
   "cell_type": "code",
   "execution_count": null,
   "metadata": {
    "colab": {
     "base_uri": "https://localhost:8080/",
     "height": 1000
    },
    "colab_type": "code",
    "id": "DbKKRbn2yD4r",
    "outputId": "e5df89b0-a87f-446d-9de1-4443e0e4fd0a"
   },
   "outputs": [],
   "source": [
    "alexnet = AlexNet.fit_generator(datagen.flow(x_train, y_train, batch_size=128), \n",
    "                           steps_per_epoch=len(x_train) / 128, epochs = 50, validation_data=(x_test, y_test), verbose = 1)"
   ]
  },
  {
   "cell_type": "code",
   "execution_count": null,
   "metadata": {
    "colab": {
     "base_uri": "https://localhost:8080/",
     "height": 312
    },
    "colab_type": "code",
    "id": "1B_yTbQymZjE",
    "outputId": "8d9d25bd-8950-4856-87c2-396cc790ea26"
   },
   "outputs": [],
   "source": [
    "f1, ax1 = plt.subplots()\n",
    "ax1.plot([None] + alexnet.history['accuracy'], 'o-')\n",
    "ax1.plot([None] + alexnet.history['val_accuracy'], 'x-')\n",
    "# Plot legend and use the best location automatically: loc = 0.\n",
    "ax1.legend(['Train acc', 'Validation acc'], loc = 0)\n",
    "ax1.set_title('Training/Validation acc per Epoch')\n",
    "ax1.set_xlabel('Epoch')\n",
    "ax1.set_ylabel('acc')"
   ]
  },
  {
   "cell_type": "markdown",
   "metadata": {
    "colab_type": "text",
    "id": "KBUzNWGOzKvg"
   },
   "source": [
    "# **Resnet (Transfer Learning)**"
   ]
  },
  {
   "cell_type": "code",
   "execution_count": null,
   "metadata": {
    "colab": {
     "base_uri": "https://localhost:8080/",
     "height": 478
    },
    "colab_type": "code",
    "id": "pqJkLMvlysj0",
    "outputId": "be51fe06-f0b4-47fb-ff74-eb83590b07f7"
   },
   "outputs": [],
   "source": [
    "ResNet = Sequential()\n",
    "\n",
    "ResNet.add(ResNet50(include_top=False, pooling='avg', weights='imagenet'))\n",
    "ResNet.add(Flatten())\n",
    "ResNet.add(BatchNormalization())\n",
    "ResNet.add(Dense(2048, activation='relu'))\n",
    "ResNet.add(BatchNormalization())\n",
    "ResNet.add(Dense(1024, activation='relu'))\n",
    "ResNet.add(BatchNormalization())\n",
    "ResNet.add(Dense(10, activation='softmax'))\n",
    "\n",
    "ResNet.layers[0].trainable = False\n",
    "\n",
    "ResNet.compile(optimizer='adam', loss='categorical_crossentropy', metrics=['accuracy'])\n",
    "ResNet.summary()"
   ]
  },
  {
   "cell_type": "code",
   "execution_count": null,
   "metadata": {
    "colab": {
     "base_uri": "https://localhost:8080/",
     "height": 1000
    },
    "colab_type": "code",
    "id": "lsE44bdAzH66",
    "outputId": "61ba5079-bc47-4f56-c6af-d03b85a3eac1"
   },
   "outputs": [],
   "source": [
    "resnet_pre = ResNet.fit(datagen.flow(x_train, y_train, batch_size=128),\n",
    "                    steps_per_epoch=len(x_train) / 128, epochs = 50, validation_data=(x_test, y_test), verbose = 1)"
   ]
  },
  {
   "cell_type": "code",
   "execution_count": null,
   "metadata": {
    "colab": {
     "base_uri": "https://localhost:8080/",
     "height": 312
    },
    "colab_type": "code",
    "id": "2itLGvoicJyq",
    "outputId": "9089aef5-10c7-4c6f-c3cd-9003a88bb53d"
   },
   "outputs": [],
   "source": [
    "f1, ax1 = plt.subplots()\n",
    "ax1.plot([None] + resnet_pre.history['accuracy'], 'o-')\n",
    "ax1.plot([None] + resnet_pre.history['val_accuracy'], 'x-')\n",
    "# Plot legend and use the best location automatically: loc = 0.\n",
    "ax1.legend(['Train acc', 'Validation acc'], loc = 0)\n",
    "ax1.set_title('Training/Validation acc per Epoch')\n",
    "ax1.set_xlabel('Epoch')\n",
    "ax1.set_ylabel('acc')"
   ]
  },
  {
   "cell_type": "markdown",
   "metadata": {
    "colab_type": "text",
    "id": "cmnXRzZBRPHY"
   },
   "source": [
    "# **Resnet (No Transfer Learning)**"
   ]
  },
  {
   "cell_type": "code",
   "execution_count": null,
   "metadata": {
    "colab": {
     "base_uri": "https://localhost:8080/",
     "height": 443
    },
    "colab_type": "code",
    "id": "2r3zAzKu52Dp",
    "outputId": "23d06c87-238d-4a1f-ef86-04e07ca1268f"
   },
   "outputs": [],
   "source": [
    "ResNet_NonPre = Sequential()\n",
    "\n",
    "ResNet_NonPre.add(ResNet50(include_top=False, pooling='avg', weights=None))\n",
    "ResNet_NonPre.add(Flatten())\n",
    "ResNet_NonPre.add(BatchNormalization())\n",
    "ResNet_NonPre.add(Dense(2048, activation='relu'))\n",
    "ResNet_NonPre.add(BatchNormalization())\n",
    "ResNet_NonPre.add(Dense(1024, activation='relu'))\n",
    "ResNet_NonPre.add(BatchNormalization())\n",
    "ResNet_NonPre.add(Dense(10, activation='softmax'))\n",
    "\n",
    "ResNet_NonPre.compile(optimizer='adam', loss='categorical_crossentropy', metrics=['accuracy'])\n",
    "ResNet_NonPre.summary()"
   ]
  },
  {
   "cell_type": "code",
   "execution_count": null,
   "metadata": {
    "colab": {
     "base_uri": "https://localhost:8080/",
     "height": 1000
    },
    "colab_type": "code",
    "id": "OV78edc5Rlg6",
    "outputId": "37188092-3e0e-43eb-89e9-5596b1a4920e"
   },
   "outputs": [],
   "source": [
    "plot_nonpre_resnet = ResNet_NonPre.fit(datagen.flow(x_train, y_train, batch_size=128),\n",
    "                    steps_per_epoch=len(x_train) / 128, epochs = 50, validation_data=(x_test, y_test), verbose = 1)"
   ]
  },
  {
   "cell_type": "code",
   "execution_count": null,
   "metadata": {
    "colab": {
     "base_uri": "https://localhost:8080/",
     "height": 312
    },
    "colab_type": "code",
    "id": "AM0QphmIRyO1",
    "outputId": "e2f08607-b8d9-4bc8-df54-99e9bc7232ab"
   },
   "outputs": [],
   "source": [
    "f1, ax1 = plt.subplots()\n",
    "ax1.plot([None] + plot_nonpre_resnet.history['accuracy'], 'o-')\n",
    "ax1.plot([None] + plot_nonpre_resnet.history['val_accuracy'], 'x-')\n",
    "# Plot legend and use the best location automatically: loc = 0.\n",
    "ax1.legend(['Train acc', 'Validation acc'], loc = 0)\n",
    "ax1.set_title('Training/Validation acc per Epoch')\n",
    "ax1.set_xlabel('Epoch')\n",
    "ax1.set_ylabel('acc')"
   ]
  },
  {
   "cell_type": "code",
   "execution_count": null,
   "metadata": {
    "colab": {},
    "colab_type": "code",
    "id": "yWhoKsghUBx6"
   },
   "outputs": [],
   "source": [
    " "
   ]
  }
 ],
 "metadata": {
  "accelerator": "GPU",
  "colab": {
   "collapsed_sections": [
    "XIavGBSGPacM",
    "BkaSIYndJVfZ",
    "gfKNOL-7q1gx",
    "14B2Hk8MaZQG",
    "ESruTQziaH2Q",
    "Gp0EWOjmutDt",
    "KBUzNWGOzKvg",
    "cmnXRzZBRPHY"
   ],
   "machine_shape": "hm",
   "name": "DS8013_FinalProject_Group6.ipynb",
   "provenance": []
  },
  "kernelspec": {
   "display_name": "Python 3",
   "language": "python",
   "name": "python3"
  },
  "language_info": {
   "codemirror_mode": {
    "name": "ipython",
    "version": 3
   },
   "file_extension": ".py",
   "mimetype": "text/x-python",
   "name": "python",
   "nbconvert_exporter": "python",
   "pygments_lexer": "ipython3",
   "version": "3.7.3"
  }
 },
 "nbformat": 4,
 "nbformat_minor": 1
}
